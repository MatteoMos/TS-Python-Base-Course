{
 "cells": [
  {
   "cell_type": "markdown",
   "id": "445bdaa5-4e50-44c9-84df-02f7633046d9",
   "metadata": {},
   "source": [
    "# **Python Basics Course: Exercises**"
   ]
  },
  {
   "cell_type": "markdown",
   "id": "38df6215-2070-47f7-b7d7-a4d16083ff90",
   "metadata": {},
   "source": [
    "# **2. Class and Objects in Python**"
   ]
  },
  {
   "cell_type": "markdown",
   "id": "9c0feda5-c613-48b3-b9a8-4ae18bfee4fb",
   "metadata": {},
   "source": [
    "**Exercise 1.1: Class and Instance Attributes**\n",
    "\n",
    "1. Create a class called `Person` with the following attributes:\n",
    "   - `name`: A string representing the name of the person.\n",
    "   - `age`: An integer representing the person's age.\n",
    "   - `city`: A string representing the city where the person lives.\n",
    "\n",
    "2. Create an instance of the `Person` class with:\n",
    "    - Name: `\"Alice\"`\n",
    "    - Age: `30`\n",
    "    - City: `\"Campobasso\"`\n",
    "\n",
    "3. Access the `name` and `city` attributes of the instance and print them.\n",
    "\n",
    "4. Modify the `age` attribute of the instance to `31` and print the new value."
   ]
  },
  {
   "cell_type": "code",
   "execution_count": 47,
   "id": "84e9adfe-8f38-4e1f-8b4b-fab7e2f94bb7",
   "metadata": {},
   "outputs": [],
   "source": [
    "# Your solution\n",
    "\n",
    "# Step 1: Define the Person class with attributes and a method\n",
    "class Person:\n",
    "\n",
    " def __init__(self, name: str, age: int, city: str, address: str = ''):\n",
    "     print(f\"Sto inserendo a db una persone di nome {{name}}\")\n",
    "     self.name = name\n",
    "     self.age = age\n",
    "     self.city = city\n",
    "     self.address = address\n",
    "    \n",
    " def __init__(self, person: Person):\n",
    "    self.name = person.name\n",
    "    self.age = person.age\n",
    "    self.city = person.city\n",
    "    self.address = person.address"
   ]
  },
  {
   "cell_type": "code",
   "execution_count": 48,
   "id": "4aafa445-f537-479d-9adc-529dbc0f2208",
   "metadata": {},
   "outputs": [
    {
     "ename": "TypeError",
     "evalue": "Person.__init__() takes 2 positional arguments but 4 were given",
     "output_type": "error",
     "traceback": [
      "\u001b[0;31m---------------------------------------------------------------------------\u001b[0m",
      "\u001b[0;31mTypeError\u001b[0m                                 Traceback (most recent call last)",
      "Cell \u001b[0;32mIn[48], line 1\u001b[0m\n\u001b[0;32m----> 1\u001b[0m person1 \u001b[38;5;241m=\u001b[39m \u001b[43mPerson\u001b[49m\u001b[43m(\u001b[49m\u001b[38;5;124;43m\"\u001b[39;49m\u001b[38;5;124;43mG\u001b[39;49m\u001b[38;5;124;43m\"\u001b[39;49m\u001b[43m,\u001b[49m\u001b[43m \u001b[49m\u001b[38;5;241;43m20\u001b[39;49m\u001b[43m,\u001b[49m\u001b[43m \u001b[49m\u001b[38;5;124;43m\"\u001b[39;49m\u001b[38;5;124;43mCampobasso\u001b[39;49m\u001b[38;5;124;43m\"\u001b[39;49m\u001b[43m)\u001b[49m\n",
      "\u001b[0;31mTypeError\u001b[0m: Person.__init__() takes 2 positional arguments but 4 were given"
     ]
    }
   ],
   "source": [
    "person1 = Person(\"G\", 20, \"Campobasso\")"
   ]
  },
  {
   "cell_type": "code",
   "execution_count": null,
   "id": "62e29991-966f-48cd-ad0d-7eb30ac0d75c",
   "metadata": {},
   "outputs": [
    {
     "ename": "TypeError",
     "evalue": "Person.__init__() takes 2 positional arguments but 4 were given",
     "output_type": "error",
     "traceback": [
      "\u001b[0;31m---------------------------------------------------------------------------\u001b[0m",
      "\u001b[0;31mTypeError\u001b[0m                                 Traceback (most recent call last)",
      "Cell \u001b[0;32mIn[39], line 19\u001b[0m\n\u001b[1;32m     16\u001b[0m     \u001b[38;5;28mself\u001b[39m\u001b[38;5;241m.\u001b[39maddress \u001b[38;5;241m=\u001b[39m person\u001b[38;5;241m.\u001b[39maddress\n\u001b[1;32m     18\u001b[0m \u001b[38;5;66;03m# Step 2: Create an instance of the Person class\u001b[39;00m\n\u001b[0;32m---> 19\u001b[0m person1 \u001b[38;5;241m=\u001b[39m \u001b[43mPerson\u001b[49m\u001b[43m(\u001b[49m\u001b[38;5;124;43m\"\u001b[39;49m\u001b[38;5;124;43mG\u001b[39;49m\u001b[38;5;124;43m\"\u001b[39;49m\u001b[43m,\u001b[49m\u001b[43m \u001b[49m\u001b[38;5;241;43m20\u001b[39;49m\u001b[43m,\u001b[49m\u001b[43m \u001b[49m\u001b[38;5;124;43m\"\u001b[39;49m\u001b[38;5;124;43mCampobasso\u001b[39;49m\u001b[38;5;124;43m\"\u001b[39;49m\u001b[43m)\u001b[49m\n\u001b[1;32m     21\u001b[0m \u001b[38;5;66;03m# Step 3: Access and print the name and city attributes\u001b[39;00m\n\u001b[1;32m     22\u001b[0m \u001b[38;5;28mprint\u001b[39m(\u001b[38;5;124mf\u001b[39m\u001b[38;5;124m\"\u001b[39m\u001b[38;5;124mName: \u001b[39m\u001b[38;5;132;01m{\u001b[39;00mperson1\u001b[38;5;241m.\u001b[39mname\u001b[38;5;132;01m}\u001b[39;00m\u001b[38;5;124m\"\u001b[39m)  \u001b[38;5;66;03m# Outputs: Alice\u001b[39;00m\n",
      "\u001b[0;31mTypeError\u001b[0m: Person.__init__() takes 2 positional arguments but 4 were given"
     ]
    }
   ],
   "source": [
    "# Step 2: Create an instance of the Person class\n",
    "person1 = Person(\"G\", 20, \"Campobasso\")\n",
    "\n",
    "# Step 3: Access and print the name and city attributes\n",
    "print(f\"Name: {person1.name}\")  # Outputs: Alice\n",
    "print(f\"City: {person1.city}\")  # Outputs: New York\n",
    "\n",
    "# Step 4: Modify the age attribute\n",
    "person1.age = 35\n",
    "print(f\"Age: {person1.age}\")"
   ]
  },
  {
   "cell_type": "code",
   "execution_count": 19,
   "id": "c188ddb5-1b91-40b2-bd68-fbfa7d1c8804",
   "metadata": {},
   "outputs": [
    {
     "name": "stdout",
     "output_type": "stream",
     "text": [
      "Questo è un esempio di graffa aperta: {\n",
      "E questo è un esempio di graffa chiusa: }\n"
     ]
    }
   ],
   "source": [
    "print(f\"Questo è un esempio di graffa aperta: {{\")\n",
    "print(f\"E questo è un esempio di graffa chiusa: }}\")"
   ]
  },
  {
   "cell_type": "code",
   "execution_count": 9,
   "id": "d580e2c0-0345-422b-9e45-5933072e7ca3",
   "metadata": {},
   "outputs": [],
   "source": [
    "person1.address = \"Via ...\""
   ]
  },
  {
   "cell_type": "code",
   "execution_count": 10,
   "id": "0e72dab1-13d6-4cbe-b71a-a00d799efb19",
   "metadata": {},
   "outputs": [
    {
     "name": "stdout",
     "output_type": "stream",
     "text": [
      "Address: Via ...\n"
     ]
    }
   ],
   "source": [
    "print(f\"Address: {person1.address}\")"
   ]
  },
  {
   "cell_type": "code",
   "execution_count": 13,
   "id": "1280a260-c982-4990-a083-bcd66a0cff55",
   "metadata": {},
   "outputs": [
    {
     "name": "stdout",
     "output_type": "stream",
     "text": [
      "Sto inserendo a db una persone di nome G\n"
     ]
    }
   ],
   "source": [
    "person2 = Person(\"G\", 20, \"Campobasso\", 'Via Roma')"
   ]
  },
  {
   "cell_type": "code",
   "execution_count": 14,
   "id": "ae1fd56a-290e-4433-a35d-617d09b722c2",
   "metadata": {},
   "outputs": [
    {
     "name": "stdout",
     "output_type": "stream",
     "text": [
      "Address: Via Roma\n"
     ]
    }
   ],
   "source": [
    "print(f\"Address: {person2.address}\")"
   ]
  },
  {
   "cell_type": "code",
   "execution_count": 28,
   "id": "97d1543a-8103-4917-9c08-326ed14934ba",
   "metadata": {},
   "outputs": [],
   "source": [
    "del person1, person2"
   ]
  },
  {
   "cell_type": "code",
   "execution_count": 29,
   "id": "cadd33ec-1709-4585-8467-4df14e57aeff",
   "metadata": {},
   "outputs": [
    {
     "name": "stdout",
     "output_type": "stream",
     "text": [
      "Sto inserendo a db una persone di nome {name}\n"
     ]
    }
   ],
   "source": [
    "person1 = Person(\"G\", 20, \"Campobasso\")"
   ]
  },
  {
   "cell_type": "code",
   "execution_count": 35,
   "id": "3e39501a-d1e1-4982-9265-206c1cf01989",
   "metadata": {},
   "outputs": [
    {
     "name": "stdout",
     "output_type": "stream",
     "text": [
      "Sto inserendo a db una persone di nome {name}\n"
     ]
    }
   ],
   "source": [
    "person2 = Person(person1.name, person1.age, person1.city)"
   ]
  },
  {
   "cell_type": "code",
   "execution_count": 30,
   "id": "98766056-f498-4edc-966a-b64983962919",
   "metadata": {},
   "outputs": [
    {
     "name": "stdout",
     "output_type": "stream",
     "text": [
      "Sto inserendo a db una persone di nome {name}\n"
     ]
    }
   ],
   "source": [
    "person2 = Person(\"G\", 20, \"Campobasso\")"
   ]
  },
  {
   "cell_type": "code",
   "execution_count": 31,
   "id": "24446d47-6547-4fae-88c5-917ac332bf1f",
   "metadata": {},
   "outputs": [
    {
     "data": {
      "text/plain": [
       "False"
      ]
     },
     "execution_count": 31,
     "metadata": {},
     "output_type": "execute_result"
    }
   ],
   "source": [
    "id(person2) == id(person1)"
   ]
  },
  {
   "cell_type": "code",
   "execution_count": 32,
   "id": "feb53bed-e7c6-4095-96f1-bfc1b616d431",
   "metadata": {},
   "outputs": [],
   "source": [
    "person2.name = \"F\""
   ]
  },
  {
   "cell_type": "code",
   "execution_count": 33,
   "id": "ee60bfdb-91d0-4a0d-bfff-4f02390b4568",
   "metadata": {},
   "outputs": [
    {
     "data": {
      "text/plain": [
       "{'name': 'G', 'age': 20, 'city': 'Campobasso', 'address': ''}"
      ]
     },
     "execution_count": 33,
     "metadata": {},
     "output_type": "execute_result"
    }
   ],
   "source": [
    "person1.__dict__"
   ]
  },
  {
   "cell_type": "code",
   "execution_count": 34,
   "id": "c6687903-d7e8-49db-b7b8-c27f92e75cf6",
   "metadata": {},
   "outputs": [
    {
     "data": {
      "text/plain": [
       "{'name': 'F', 'age': 20, 'city': 'Campobasso', 'address': ''}"
      ]
     },
     "execution_count": 34,
     "metadata": {},
     "output_type": "execute_result"
    }
   ],
   "source": [
    "person2.__dict__"
   ]
  },
  {
   "cell_type": "code",
   "execution_count": 45,
   "id": "87dac63b-137c-4df9-8ac7-5c5be67a1467",
   "metadata": {},
   "outputs": [],
   "source": [
    "person3 = Person(person1)"
   ]
  },
  {
   "cell_type": "code",
   "execution_count": 46,
   "id": "9327baeb-cddd-44da-968c-cf4745d5a007",
   "metadata": {},
   "outputs": [
    {
     "data": {
      "text/plain": [
       "{'name': 'G', 'age': 20, 'city': 'Campobasso', 'address': ''}"
      ]
     },
     "execution_count": 46,
     "metadata": {},
     "output_type": "execute_result"
    }
   ],
   "source": [
    "person3.__dict__"
   ]
  },
  {
   "cell_type": "markdown",
   "id": "16a75254-9283-40f5-aa32-60e3e7ef186e",
   "metadata": {
    "jp-MarkdownHeadingCollapsed": true
   },
   "source": [
    "# **3. Functions in Python**"
   ]
  },
  {
   "attachments": {},
   "cell_type": "markdown",
   "id": "8890f24e-548c-44a9-b42d-a2b40a51d609",
   "metadata": {
    "jp-MarkdownHeadingCollapsed": true
   },
   "source": [
    "**Ex 3.1: Divide numbers**\n",
    "\n",
    "**Step 1: Define the Function**\n",
    "- Create a function named `divide_numbers` that accepts two parameters: `a` (dividend) and `b` (divisor).\n",
    "- Ensure the function has a docstring explaining its purpose.\n",
    "\n",
    "**Step 2: Perform the Division**\n",
    "- Calculate the **quotient** (integer division) of `a` divided by `b`.\n",
    "- Calculate the **remainder** (modulus operation) of `a` divided by `b`.\n",
    "\n",
    "**Step 3: Return the Results**\n",
    "- Return both the quotient and remainder as a tuple.\n",
    "\n",
    "**Step 4: Test the Function**\n",
    "- Call the function with sample inputs (e.g., `a = 10` and `b = 3`).\n",
    "- Store the returned values in two variables and print them in a user-friendly format.\n",
    "\n",
    "---\n",
    "\n",
    "**Example Input**\n",
    "```python\n",
    "a = 10\n",
    "b = 3"
   ]
  },
  {
   "cell_type": "code",
   "execution_count": null,
   "id": "a344362b-c6a4-4b7b-920e-8e1d3c4fb283",
   "metadata": {},
   "outputs": [],
   "source": [
    "# Your solution\n",
    "\n",
    "def divide_numbers(a, b):\n",
    "    \"\"\"Returns the quotient and remainder of two numbers.\"\"\"\n",
    "    quotient = ...\n",
    "    remainder = ...\n",
    "    return quotient, remainder\n",
    "    \n",
    "a = 10\n",
    "b = 3\n",
    "print(divide_numbers(a, b))"
   ]
  },
  {
   "cell_type": "markdown",
   "id": "5dcd6330-449f-428c-88c0-8cc5b6c76203",
   "metadata": {},
   "source": [
    "**Ex 3.2 Greeting Function**\n",
    "\n",
    "Create a function called `greet` that takes two parameters: \n",
    "1. `language` - a string that specifies the language `\"en\"` or `\"it\"`( with `it` as default value).\n",
    "2. `name` - the name of the person to greet.\n",
    "\n",
    "The function should:\n",
    "- Return `\"Hello, [name]!\"` if the language is `\"en\"`.\n",
    "- Return `\"Ciao, [name]!\"` if the language is `\"it\"`.\n",
    "\n",
    "Test the function with different combinations of `language` and `name`."
   ]
  },
  {
   "cell_type": "code",
   "execution_count": 13,
   "id": "6d7cba97-a314-4f6c-b35a-c362630b47a8",
   "metadata": {},
   "outputs": [],
   "source": [
    "# Your solution\n",
    "\n",
    "def greet(name, language='it'):\n",
    "    \"\"\"Questa funzione saluta\"\"\"\n",
    "    \n",
    "    if language[:2] == 'en':\n",
    "        return f\"Hello, {name}!\"\n",
    "    elif language[:2] == 'it':\n",
    "        return f\"Ciao, {name}!\"\n",
    "    else:\n",
    "        return f\"Language not supported.\""
   ]
  },
  {
   "cell_type": "code",
   "execution_count": 16,
   "id": "19feb574-3a2b-4ac5-acb3-bbcc690c94ff",
   "metadata": {},
   "outputs": [
    {
     "data": {
      "text/plain": [
       "'Ciao, Giuseppe!'"
      ]
     },
     "execution_count": 16,
     "metadata": {},
     "output_type": "execute_result"
    }
   ],
   "source": [
    "greet('Giuseppe', language='italiano')"
   ]
  },
  {
   "cell_type": "code",
   "execution_count": 14,
   "id": "7e79dbba-3150-417b-8a8b-9ed29d17fc19",
   "metadata": {},
   "outputs": [
    {
     "name": "stdout",
     "output_type": "stream",
     "text": [
      "Hello, Alice!\n",
      "Ciao, Luigi!\n",
      "Ciao, Francesco!\n",
      "Language not supported.\n"
     ]
    }
   ],
   "source": [
    "# Test cases\n",
    "print(greet(\"Alice\", \"en\"))  # Output: Hello, Alice!\n",
    "print(greet(\"Luigi\", \"it\"))  # Output: Ciao, Luigi!\n",
    "print(greet(\"Francesco\"))  # Output: Ciao, Luigi!\n",
    "print(greet(\"Maria\", \"es\"))  # Output: Language not supported, Maria!"
   ]
  },
  {
   "cell_type": "code",
   "execution_count": 8,
   "id": "3aba83f6-eae3-48c8-bb47-10b6a01b1493",
   "metadata": {},
   "outputs": [
    {
     "data": {
      "text/plain": [
       "'it'"
      ]
     },
     "execution_count": 8,
     "metadata": {},
     "output_type": "execute_result"
    }
   ],
   "source": [
    "\"italiano\"[:2]"
   ]
  },
  {
   "cell_type": "markdown",
   "id": "8ff6f957-2c94-4fce-aade-e005cbf2c521",
   "metadata": {},
   "source": [
    "# **4. Methods**"
   ]
  },
  {
   "cell_type": "code",
   "execution_count": null,
   "id": "eb2e1191-9edf-40cd-86f9-f3847a7522f6",
   "metadata": {},
   "outputs": [],
   "source": [
    "# Example: Class Method vs Instance Method\n",
    "\n",
    "class Employee:\n",
    "    company_name = \"TechCorp\"  # Class-level attribute\n",
    "\n",
    "    def __init__(self, name, age):\n",
    "        self.name = name  # Instance-level attribute\n",
    "        self.age = age    # Instance-level attribute\n",
    "\n",
    "    # Instance method\n",
    "    def display_details(self):\n",
    "        return f\"Name: {self.name}, Age: {self.age}, Company: {Employee.company_name}\"\n",
    "\n",
    "    # Class method\n",
    "    @classmethod\n",
    "    def company_info(cls):\n",
    "        # Cannot access self.name or self.age because they belong to the instance\n",
    "        return f\"Company Name: {cls.company_name}\""
   ]
  },
  {
   "cell_type": "code",
   "execution_count": null,
   "id": "bdf1b0a8-ecdd-48f9-9171-7c8d840e6ddf",
   "metadata": {},
   "outputs": [],
   "source": [
    "# Create an instance of Employee\n",
    "emp = Employee(\"Alice\", 30)\n",
    "\n",
    "# Call instance method\n",
    "print(emp.display_details())  # Accesses instance and class-level data\n",
    "\n",
    "# Call class method\n",
    "print(Employee.company_info())  # Accesses only class-level data"
   ]
  },
  {
   "cell_type": "code",
   "execution_count": null,
   "id": "d9ad7329-1dc1-45fd-aa4a-6a4c0f3d8606",
   "metadata": {},
   "outputs": [],
   "source": [
    "# Instance calling class method\n",
    "emp.company_info()"
   ]
  },
  {
   "cell_type": "code",
   "execution_count": null,
   "id": "c7b8f05c-4179-4d13-bb7d-81a20f748fd0",
   "metadata": {},
   "outputs": [],
   "source": [
    "# Class calling instance method\n",
    "Employee.display_details()"
   ]
  },
  {
   "cell_type": "markdown",
   "id": "4d9ccabb-4ad6-47b2-a964-a309a5b07e7e",
   "metadata": {},
   "source": [
    "**Explanation:**\n",
    "\n",
    "1. Instance Method (display_details):\n",
    "    - Can access both instance attributes (name, age) and class attributes (company_name).\n",
    "    - Uses self to refer to the instance.\n",
    "\n",
    "2. Class Method (company_info):\n",
    "    - Can only access class attributes (company_name).\n",
    "    - Uses cls to refer to the class.\n",
    "    - Cannot access name or age because they are instance-specific attributes."
   ]
  },
  {
   "cell_type": "markdown",
   "id": "2278ca02-7206-41d1-bfc7-5c8ab73829b4",
   "metadata": {},
   "source": [
    "# **5. Core Principles of OOP**"
   ]
  },
  {
   "cell_type": "markdown",
   "id": "58734c9b-dec6-4146-9a22-43cb12754a40",
   "metadata": {},
   "source": [
    "**Example 5.1: Exploring Inheritance and Attributes in Python**\n",
    "\n",
    "1. Define a **parent class** called `Vehicle` with:\n",
    "   - An initializer method (`__init__`) that takes an optional argument `type_of_vehicle` with a default value of `\"unknown\"`.\n",
    "   - An instance attribute `type_of_vehicle` that stores the type of the vehicle."
   ]
  },
  {
   "cell_type": "code",
   "execution_count": null,
   "id": "1125727b-0e04-4860-8d7d-b3d1e3e12a97",
   "metadata": {},
   "outputs": [],
   "source": [
    "# Define the parent class Vehicle\n",
    "class Vehicle:\n",
    "    def __init__(self, type_of_vehicle=\"unknown\"):\n",
    "        .."
   ]
  },
  {
   "cell_type": "markdown",
   "id": "a6bbc631-e99a-4771-864f-582403395797",
   "metadata": {},
   "source": [
    "2. Create an instance of the `Vehicle` class:\n",
    "   - Use the default value for `type_of_vehicle` in one instance.\n",
    "   - Specify `\"Bike\"` as the type in another instance.\n",
    "   - Print the attributes of the second instance using the `__dict__` method."
   ]
  },
  {
   "cell_type": "code",
   "execution_count": null,
   "id": "0a961b66-ca72-45b3-8e5a-c876c7d9909c",
   "metadata": {},
   "outputs": [],
   "source": [
    "# Create an instance of Vehicle with the default type\n",
    "...\n",
    "\n",
    "# Create another instance of Vehicle, specifying the type as \"Bike\"\n",
    "...\n",
    "\n",
    "# Display the attributes of the instance as a dictionary\n",
    "print(\"My vehicle's attributes: \", ...)"
   ]
  },
  {
   "cell_type": "markdown",
   "id": "e9e8e95e-5010-4c67-8279-3ce6d6a73423",
   "metadata": {},
   "source": [
    "3. Define a **child class** called `Car` that inherits from `Vehicle`:\n",
    "   - Add a class-level attribute `number_of_wheels` with a value of `4`.\n",
    "   - Modify the initializer to add `make` and `model` as instance attributes with default values `\"unknown\"`.\n",
    "   - Ensure that the initializer calls the parent class's initializer with the type `\"Car\"`."
   ]
  },
  {
   "cell_type": "code",
   "execution_count": null,
   "id": "995fb538-67cb-42aa-82e1-dc35b6d4018f",
   "metadata": {},
   "outputs": [],
   "source": [
    "# Define a subclass Car that inherits from Vehicle\n",
    "class Car(Vehicle):\n",
    "    ... # Class-level attribute specific to cars\n",
    "\n",
    "    def __init__(self, make=\"unknown\", model=\"unknown\"):\n",
    "        ...  # Call the initializer of the parent Vehicle class\n",
    "        ...         # Instance attribute for car make\n",
    "        ...       # Instance attribute for car model"
   ]
  },
  {
   "cell_type": "markdown",
   "id": "bd53ea0a-68b8-4166-b609-b22e040d6c8e",
   "metadata": {},
   "source": [
    "4. Create an instance of the `Car` class:\n",
    "   - Specify the make as `\"Fiat\"` and the model as `\"Panda\"`.\n",
    "   - Print the attributes of the instance using the `__dict__` method.\n",
    "   - Access and print the class-level attribute `number_of_wheels`."
   ]
  },
  {
   "cell_type": "code",
   "execution_count": null,
   "id": "e824bcc9-49a0-4412-926f-44a2f3842a2f",
   "metadata": {},
   "outputs": [],
   "source": [
    "# Create an instance of Car, specifying the make and model\n",
    "...\n",
    "\n",
    "# Display the attributes of the Car instance as a dictionary\n",
    "print(\"My car's attributes: \", ...)\n",
    "\n",
    "# Access the class-level attribute for the number of wheels\n",
    "print(\"My car's number of wheels: \", ...)"
   ]
  },
  {
   "cell_type": "markdown",
   "id": "d545f921-aac8-4a23-b9a5-9ec82d112a09",
   "metadata": {},
   "source": [
    "5. Define another **child class** called `Bike` that inherits from `Vehicle`:\n",
    "   - Add a class-level attribute `number_of_wheels` with a value of `2`.\n",
    "   - Modify the initializer to add `make` and `model` as instance attributes with default values `\"unknown\"`.\n",
    "   - Ensure that the initializer calls the parent class's initializer with the type `\"Bike\"`."
   ]
  },
  {
   "cell_type": "code",
   "execution_count": null,
   "id": "3cfd2066-114f-4ecc-ab49-d51168326e2f",
   "metadata": {},
   "outputs": [],
   "source": [
    "# Define a subclass Bike that inherits from Vehicle\n",
    "class Bike(Vehicle):\n",
    "    ...  # Class-level attribute specific to bikes\n",
    "\n",
    "    def __init__(self, make='unknown', model='unknown'):\n",
    "        ...  # Call the initializer of the parent Vehicle class\n",
    "        ...         # Instance attribute for bike make\n",
    "        ...        # Instance attribute for bike model"
   ]
  },
  {
   "cell_type": "markdown",
   "id": "85ce3135-0e94-4ba6-ba75-243c57567dbb",
   "metadata": {},
   "source": [
    "6. Create an instance of the `Bike` class:\n",
    "   - Use the default values for the make and model.\n",
    "   - Access and print the class-level attribute `number_of_wheels`.\n",
    "   - Access and print the instance attribute for `make`."
   ]
  },
  {
   "cell_type": "code",
   "execution_count": null,
   "id": "d32d90cf-3c34-4bd7-ac77-8c836d4453ae",
   "metadata": {},
   "outputs": [],
   "source": [
    "# Create an instance of Bike with default make and model\n",
    "...\n",
    "\n",
    "# Access the class-level attribute for the number of wheels\n",
    "print(\"My bike's number of wheels: \", ...)\n",
    "\n",
    "# Access the instance attribute for the make\n",
    "print(\"My bike's make: \", ...)"
   ]
  },
  {
   "cell_type": "markdown",
   "id": "1259e834-b1b4-470d-8a25-e6ba0f4fab65",
   "metadata": {},
   "source": [
    "**Expected Output**\n",
    "After completing the exercise, your code should demonstrate the following:\n",
    "- Proper inheritance between the `Vehicle`, `Car`, and `Bike` classes.\n",
    "- Correct initialization and modification of both class-level and instance-level attributes.\n",
    "- Successful access to attributes using instances of `Car` and `Bike`."
   ]
  },
  {
   "cell_type": "markdown",
   "id": "065954f5-8714-47db-95d8-f9dd1e191072",
   "metadata": {},
   "source": [
    "**Bonus Challenge**\n",
    "- Modify the `Car` and `Bike` classes to include a method `display_info` that prints all the details of the vehicle in a readable format."
   ]
  },
  {
   "cell_type": "code",
   "execution_count": null,
   "id": "71ef927b-035b-4ad8-be61-7476496e2e06",
   "metadata": {},
   "outputs": [],
   "source": [
    "# Define the parent class Vehicle\n",
    "class Vehicle:\n",
    "    ...\n",
    "\n",
    "    def display_info(self):\n",
    "        \"\"\"Displays the type of the vehicle.\"\"\"\n",
    "        print(f\"Vehicle Type: {...}\")\n",
    "\n",
    "\n",
    "# Define the child class Car\n",
    "class Car(Vehicle):\n",
    "    ...\n",
    "\n",
    "    def display_info(self):\n",
    "        \"\"\"Displays detailed information about the car.\"\"\"\n",
    "        super().display_info()  # Call the parent class's display_info method\n",
    "        print(...)\n",
    "\n",
    "\n",
    "# Define the child class Bike\n",
    "class Bike(Vehicle):\n",
    "    ...\n",
    "\n",
    "    def display_info(self):\n",
    "        \"\"\"Displays detailed information about the bike.\"\"\"\n",
    "        super().display_info()  # Call the parent class's display_info method\n",
    "        print(...)"
   ]
  },
  {
   "cell_type": "code",
   "execution_count": null,
   "id": "acacbd0b-c85d-42da-9831-f044b22f18c7",
   "metadata": {},
   "outputs": [],
   "source": [
    "# Test the classes with the display_info method\n",
    "# Create a Car instance\n",
    "my_car = Car(\"Fiat\", \"Panda\")\n",
    "print(\"Car Information:\")\n",
    "my_car.display_info()  # Display car details\n",
    "\n",
    "print(\"\\n\")  # Add a newline for clarity\n",
    "\n",
    "# Create a Bike instance\n",
    "my_bike = Bike(\"Trek\", \"Domane\")\n",
    "print(\"Bike Information:\")\n",
    "my_bike.display_info()  # Display bike details"
   ]
  },
  {
   "cell_type": "code",
   "execution_count": null,
   "id": "ba59f47b-4d55-47bc-aff1-1e3f5bbdf03e",
   "metadata": {},
   "outputs": [],
   "source": []
  }
 ],
 "metadata": {
  "kernelspec": {
   "display_name": "Python 3 (ipykernel)",
   "language": "python",
   "name": "python3"
  },
  "language_info": {
   "codemirror_mode": {
    "name": "ipython",
    "version": 3
   },
   "file_extension": ".py",
   "mimetype": "text/x-python",
   "name": "python",
   "nbconvert_exporter": "python",
   "pygments_lexer": "ipython3",
   "version": "3.11.7"
  }
 },
 "nbformat": 4,
 "nbformat_minor": 5
}
