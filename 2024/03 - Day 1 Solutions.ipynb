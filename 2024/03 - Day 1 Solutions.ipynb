{
 "cells": [
  {
   "cell_type": "markdown",
   "id": "c3bf996f-9f5a-4c9a-a6d1-0d559f208096",
   "metadata": {},
   "source": [
    "# Python Basics Course: Exercises solutions"
   ]
  },
  {
   "cell_type": "markdown",
   "id": "0f82ed0b-fe23-4735-b606-946e29d16f20",
   "metadata": {},
   "source": [
    "# 1. Data Types and Variables"
   ]
  },
  {
   "cell_type": "markdown",
   "id": "99392722-2757-4a49-997f-1fd1168c7db2",
   "metadata": {},
   "source": [
    "**Ex 1.1: Declare Your Own Variables**\n",
    "\n",
    "1. Create a variable for your favorite color as a string.\n",
    "2. Create a variable for your age as an integer.\n",
    "3. Create a variable for your height as a float.\n",
    "4. Create a variable for whether you like Python as a boolean.\n",
    "5. Print all the previous variables"
   ]
  },
  {
   "cell_type": "code",
   "execution_count": 6,
   "id": "f9718695-6763-4bc3-92ba-ac03013f7fad",
   "metadata": {},
   "outputs": [
    {
     "name": "stdout",
     "output_type": "stream",
     "text": [
      "Favorite color: blue\n",
      "Age: 20\n",
      "Height: 5.9\n",
      "Likes Python: True\n"
     ]
    }
   ],
   "source": [
    "# Solution 1.1\n",
    "favorite_color = \"blue\"  # Replace \"blue\" with your favorite color\n",
    "age = 20                # Replace 20 with your age\n",
    "height = 5.9            # Replace 5.9 with your height\n",
    "likes_python = True     # Replace True with your preference\n",
    "\n",
    "# Print them out to check\n",
    "print(\"Favorite color:\", favorite_color)\n",
    "print(\"Age:\", age)\n",
    "print(\"Height:\", height)\n",
    "print(\"Likes Python:\", likes_python)\n"
   ]
  },
  {
   "cell_type": "markdown",
   "id": "6ac235bb-88f4-4d90-b8c7-67cf5541ea42",
   "metadata": {},
   "source": [
    "**Ex 1.2: String Manipulation and Type Conversion**\n",
    "\n",
    "1. Strings can be concatenated with `+` or repeated with `*`.\n",
    "2. Convert one data type to another using functions like `int()`, `float()`, and `str()`.\n"
   ]
  },
  {
   "cell_type": "code",
   "execution_count": 8,
   "id": "10dbb23e-01a2-44da-93c5-6f7651574fdd",
   "metadata": {},
   "outputs": [
    {
     "name": "stdout",
     "output_type": "stream",
     "text": [
      "Hello, Alice!\n",
      "Converted: 100 is now of type <class 'int'>\n"
     ]
    }
   ],
   "source": [
    "# Solution 1.2\n",
    "\n",
    "# String concatenation\n",
    "name = \"Alice\"\n",
    "greeting = \"Hello, \" + name + \"!\"\n",
    "print(greeting)\n",
    "\n",
    "# Type conversion\n",
    "num_str = \"100\"    # This is a string\n",
    "num_int = int(num_str)  # Converts string to integer\n",
    "print(\"Converted:\", num_int, \"is now of type\", type(num_int))\n"
   ]
  },
  {
   "cell_type": "markdown",
   "id": "f5ec18f3-9850-4508-aa0b-148af9a2ce65",
   "metadata": {},
   "source": [
    "**Ex 1.3: Work with Data Types**\n",
    "\n",
    "1. Create a string variable for your name and print a greeting using it.\n",
    "2. Add two integer variables and print the result.\n",
    "3. Multiply a float by an integer and print the result.\n",
    "4. Convert a string of numbers (e.g., \"123\") into an integer and add 10 to it.\n"
   ]
  },
  {
   "cell_type": "code",
   "execution_count": 9,
   "id": "c6084fac-cdd5-4895-ae43-578734c74af6",
   "metadata": {},
   "outputs": [
    {
     "name": "stdout",
     "output_type": "stream",
     "text": [
      "Hello, Your Name!\n",
      "Sum: 35\n",
      "Multiplication Result: 10.0\n",
      "Converted and Added: 133\n"
     ]
    }
   ],
   "source": [
    "# Solution 1.3\n",
    "# 1. String variable for your name\n",
    "your_name = \"Your Name\"\n",
    "print(\"Hello, \" + your_name + \"!\")\n",
    "\n",
    "# 2. Add two integers\n",
    "num1 = 15\n",
    "num2 = 20\n",
    "print(\"Sum:\", num1 + num2)\n",
    "\n",
    "# 3. Multiply a float by an integer\n",
    "float_num = 2.5\n",
    "int_num = 4\n",
    "print(\"Multiplication Result:\", float_num * int_num)\n",
    "\n",
    "# 4. Convert string to integer and add 10\n",
    "num_str = \"123\"\n",
    "num_int = int(num_str)\n",
    "print(\"Converted and Added:\", num_int + 10)\n"
   ]
  },
  {
   "cell_type": "markdown",
   "id": "977a348d-f429-4bf8-bde7-ffc796613f96",
   "metadata": {},
   "source": [
    "**Ex 1.4: User Input and Type Casting**\n",
    "\n",
    "1. Ask the user to input their age as a string.\n",
    "2. Convert the input into an integer and add 5 to it.\n",
    "3. Print a message with the result."
   ]
  },
  {
   "cell_type": "code",
   "execution_count": 10,
   "id": "b7e8e627-be6f-435e-97ff-29b02b01a535",
   "metadata": {},
   "outputs": [
    {
     "name": "stdin",
     "output_type": "stream",
     "text": [
      "Enter your age:  34\n"
     ]
    },
    {
     "name": "stdout",
     "output_type": "stream",
     "text": [
      "In 5 years, you will be 39 years old!\n"
     ]
    }
   ],
   "source": [
    "# Solution 1.4\n",
    "\n",
    "# Step 1: Ask the user for their age\n",
    "age_str = input(\"Enter your age: \")  # User input is always a string\n",
    "\n",
    "# Step 2: Convert the string to an integer\n",
    "age_int = int(age_str)\n",
    "\n",
    "# Step 3: Add 5 and print the result\n",
    "future_age = age_int + 5\n",
    "print(\"In 5 years, you will be\", future_age, \"years old!\")\n"
   ]
  },
  {
   "cell_type": "markdown",
   "id": "bd8678c3-abe4-4c12-8072-52adcb99ce82",
   "metadata": {},
   "source": [
    "**Ex 1.5: Arithmetic with Mixed Types**\n",
    "\n",
    "1. Create two variables:\n",
    "   - A float (e.g., `price = 19.99`).\n",
    "   - A string representing a whole number (e.g., `quantity = \"3\"`).\n",
    "2. Convert the string variable into an integer.\n",
    "3. Multiply the float by the integer and print the result as a float.\n"
   ]
  },
  {
   "cell_type": "code",
   "execution_count": null,
   "id": "247ac4e8-b7a4-460e-922f-667daec02296",
   "metadata": {},
   "outputs": [],
   "source": [
    "# Solution 1.5\n",
    "# Step 1: Define a float and a string\n",
    "price = 19.99\n",
    "quantity_str = \"3\"\n",
    "\n",
    "# Step 2: Convert the string to an integer\n",
    "quantity = int(quantity_str)\n",
    "\n",
    "# Step 3: Perform arithmetic and print the result\n",
    "total_cost = price * quantity\n",
    "print(\"Total cost:\", total_cost)  # Result will be a float\n"
   ]
  },
  {
   "cell_type": "markdown",
   "id": "b6499e61-2049-4bc1-a3d0-7b7c9141434f",
   "metadata": {
    "jp-MarkdownHeadingCollapsed": true
   },
   "source": [
    "# 2. Basic Python Syntax"
   ]
  },
  {
   "cell_type": "markdown",
   "id": "d915f7ce-5ebf-40ff-bd34-b9950dd78afb",
   "metadata": {},
   "source": [
    "**Ex 2.1: Print and Comments**\n",
    "1. Write a print statement that outputs: \"Python is fun!\"\n",
    "2. Add a comment above the print statement explaining what it does.\n",
    "3. Add a second print statement with your favorite hobby.\n"
   ]
  },
  {
   "cell_type": "code",
   "execution_count": null,
   "id": "ace13596-a2a7-4b33-95c0-96abc4695611",
   "metadata": {},
   "outputs": [],
   "source": [
    "# Solution 2.1\n",
    "\n",
    "# This print statement outputs a message\n",
    "print(\"Python is fun!\")\n",
    "\n",
    "# Printing my favorite hobby\n",
    "print(\"I love painting!\")\n"
   ]
  },
  {
   "cell_type": "markdown",
   "id": "9af24dfb-a201-48dd-b50c-06ab770001a5",
   "metadata": {},
   "source": [
    "**Ex 2.2: Case Sensitivity and Indentation**\n",
    "1. Declare two variables: `Name = \"Alice\"` and `name = \"Bob\"`. Print both variables to see the difference.\n",
    "2. Write an `if` statement that checks if `10 > 5` and prints \"10 is greater than 5\".\n",
    "3. Experiment by removing indentation under the `if` statement and observe the error.\n"
   ]
  },
  {
   "cell_type": "code",
   "execution_count": null,
   "id": "84f0dd22-569a-4f3e-8cf6-d58488b8b196",
   "metadata": {},
   "outputs": [],
   "source": [
    "# Solution 2.2\n",
    "\n",
    "# Case sensitivity\n",
    "Name = \"Alice\"\n",
    "name = \"Bob\"\n",
    "print(\"Name:\", Name)\n",
    "print(\"name:\", name)\n",
    "\n",
    "# Indentation\n",
    "if 10 > 5:\n",
    "    print(\"10 is greater than 5\")\n",
    "\n",
    "# Try removing indentation here to see the error"
   ]
  },
  {
   "cell_type": "markdown",
   "id": "12a3f443-6687-43ee-bb94-4c80cbca1f9c",
   "metadata": {},
   "source": [
    "**Ex 2.3: Debugging Syntax Errors**\n",
    "\n",
    "1. The code below has syntax errors. Copy and paste it into the code cell, run it, and fix the errors:\n",
    "   ```python\n",
    "   print(\"Welcome to Python\")\n",
    "   if(5 > 3)\n",
    "   print(\"5 is greater than 3\")\n"
   ]
  },
  {
   "cell_type": "code",
   "execution_count": null,
   "id": "00ef8cdc-e3e5-4ca9-9988-f59c81bd1d53",
   "metadata": {},
   "outputs": [],
   "source": [
    "# Solution 2.3\n",
    "\n",
    "# Fixed Syntax Errors\n",
    "print(\"Welcome to Python\")  # Added missing closing parenthesis\n",
    "\n",
    "if 5 > 3:  # Added colon at the end of the if statement\n",
    "    print(\"5 is greater than 3\")  # Indented this line properly\n"
   ]
  },
  {
   "cell_type": "markdown",
   "id": "6aca5267-c42b-4bc5-a923-8e3c565c6606",
   "metadata": {},
   "source": [
    "**Ex 2.4: Practice Indentation with a Nested Block**\n",
    "\n",
    "1. Write an `if` statement that checks if `7 > 3`. \n",
    "2. Inside this block, write another `if` statement that checks if `7 > 5`.\n",
    "3. Print a message inside the nested block.\n",
    "4. Experiment with incorrect indentation and observe the errors.\n"
   ]
  },
  {
   "cell_type": "code",
   "execution_count": null,
   "id": "8316c4ed-f94c-4a38-bd1b-93586b567106",
   "metadata": {},
   "outputs": [],
   "source": [
    "# Solution 2.4\n",
    "\n",
    "if 7 > 3:\n",
    "    print(\"7 is greater than 3\")\n",
    "    if 7 > 5:\n",
    "        print(\"7 is also greater than 5\")  # Nested block with correct indentation\n",
    "\n",
    "# Incorrect indentation will cause errors!\n"
   ]
  },
  {
   "cell_type": "markdown",
   "id": "493c21bc-e9cc-46d1-a870-03244484da43",
   "metadata": {
    "jp-MarkdownHeadingCollapsed": true
   },
   "source": [
    "# 3. Operators"
   ]
  },
  {
   "cell_type": "markdown",
   "id": "ecad305b-4cf1-4f64-9de2-bbef735fe8a3",
   "metadata": {},
   "source": [
    "**Ex 3.1: Arithmetic Operators**\n",
    "1. Create two variables, `num1` and `num2`, and assign them any values.\n",
    "2. Calculate and print the following:\n",
    "   - Sum of `num1` and `num2`.\n",
    "   - Difference between `num1` and `num2`.\n",
    "   - Product of `num1` and `num2`.\n",
    "   - Floor division of `num1` by `num2`.\n",
    "   - Remainder when `num1` is divided by `num2`."
   ]
  },
  {
   "cell_type": "code",
   "execution_count": null,
   "id": "9681ba5f-2eaf-4e0c-82dc-bfb06f03e0f4",
   "metadata": {},
   "outputs": [],
   "source": [
    "# Solution 3.1\n",
    "\n",
    "a = 7\n",
    "b = 5\n",
    "\n",
    "print(\"Equal to:\", a == b)\n",
    "print(\"Greater than:\", a > b)\n",
    "print(\"Less than or equal to:\", a <= b)"
   ]
  },
  {
   "cell_type": "code",
   "execution_count": null,
   "id": "ef654fa4-13f1-41b2-b7e9-8f5b376a95e3",
   "metadata": {},
   "outputs": [],
   "source": [
    "del a, b"
   ]
  },
  {
   "cell_type": "markdown",
   "id": "6e5f4392-e8a7-4ca9-a19e-78d7e796a713",
   "metadata": {},
   "source": [
    "**Ex 3.2: Logical Operators**\n",
    "1. Create a variable `x` and assign it a value.\n",
    "2. Write logical expressions to check and print:\n",
    "   - Whether `x` is greater than 10 and less than 20.\n",
    "   - Whether `x` is less than 5 or greater than 15.\n",
    "   - Use `not` to reverse the result of whether `x` is greater than 10."
   ]
  },
  {
   "cell_type": "code",
   "execution_count": null,
   "id": "0ddf279a-efa6-4cce-9a77-79f86eb0beac",
   "metadata": {},
   "outputs": [],
   "source": [
    "# Solution 3.2\n",
    "\n",
    "x = 12\n",
    "\n",
    "print(\"x > 10 and x < 20:\", x > 10 and x < 20)\n",
    "print(\"x < 5 or x > 15:\", x < 5 or x > 15)\n",
    "print(\"not(x > 10):\", not(x > 10))"
   ]
  },
  {
   "cell_type": "code",
   "execution_count": null,
   "id": "d3a453ba-d975-4268-bd16-5bddb5e7c192",
   "metadata": {},
   "outputs": [],
   "source": [
    "del x"
   ]
  },
  {
   "cell_type": "markdown",
   "id": "541a0dd5-8d18-4dc6-89c0-c29726a32227",
   "metadata": {
    "jp-MarkdownHeadingCollapsed": true
   },
   "source": [
    "# 4. Conditional Statements and Loops"
   ]
  },
  {
   "cell_type": "markdown",
   "id": "222bd181-79ea-45f6-839f-aaa0fcf9e082",
   "metadata": {
    "jp-MarkdownHeadingCollapsed": true
   },
   "source": [
    "### `range()`\n",
    "\n",
    "The range() function **generates a sequence of numbers** and is commonly used for looping a specific number of times in for loops.\n",
    "\n",
    "**Syntax:**\n",
    "```python\n",
    "range(start, stop, step)\n",
    "```\n",
    "\n",
    "- start (optional): Starting value (default: 0).\n",
    "- stop (required): Ending value (exclusive).\n",
    "- step (optional): Increment value (default: 1)."
   ]
  },
  {
   "cell_type": "code",
   "execution_count": null,
   "id": "d1b28788-c610-44bf-aa94-a6752fd2abbd",
   "metadata": {},
   "outputs": [],
   "source": [
    "# Example 4.5: Generate numbers from 0 to 4\n",
    "for i in range(5):\n",
    "    print(i)"
   ]
  },
  {
   "cell_type": "code",
   "execution_count": null,
   "id": "75bfae1c-8dda-437b-b4a3-29f1a395036d",
   "metadata": {},
   "outputs": [],
   "source": [
    "# Example 4.6: Generate numbers from 2 to 8, stepping by 2\n",
    "for i in range(2, 10, 2):\n",
    "    print(i)"
   ]
  },
  {
   "cell_type": "markdown",
   "id": "81014460-14b0-4fc0-ac77-72397f9df71a",
   "metadata": {
    "jp-MarkdownHeadingCollapsed": true
   },
   "source": [
    "### `map()`\n",
    "\n",
    "The map() function applies a specified function to each item in an iterable (like a list) and returns a map object, which can be converted to a list, tuple, etc.\n",
    "\n",
    "**Syntax:**\n",
    "```python\n",
    "map(function, iterable)\n",
    "```\n",
    "\n",
    "Where:\n",
    "\n",
    "- function is a function to apply to each item in the iterable\n",
    "- iterable is the collection of items to process"
   ]
  },
  {
   "cell_type": "code",
   "execution_count": 20,
   "id": "5cf02936-7dd8-4a9d-adff-3e1bea30564c",
   "metadata": {},
   "outputs": [
    {
     "name": "stdout",
     "output_type": "stream",
     "text": [
      "[1, 4, 9]\n"
     ]
    }
   ],
   "source": [
    "# Example 4.7: Double each number in a list\n",
    "\n",
    "nums = [1, 2, 3]\n",
    "squared = map(lambda x: x**2, nums)\n",
    "print(list(squared))"
   ]
  },
  {
   "cell_type": "code",
   "execution_count": 21,
   "id": "4ad5eabb-9a29-419a-a92f-ca9a2fc1a9ea",
   "metadata": {},
   "outputs": [
    {
     "name": "stdout",
     "output_type": "stream",
     "text": [
      "[32.0, 68.0, 86.0, 104.0]\n"
     ]
    }
   ],
   "source": [
    "# Example 4.5: Convert Temperatures from Celsius to Fahrenheit\n",
    "\n",
    "#Define a function to convert Celsius to Fahrenheit\n",
    "def celsius_to_fahrenheit(celsius):\n",
    "    return (celsius * 9/5) + 32\n",
    "\n",
    "# List of temperatures in Celsius\n",
    "temperatures_celsius = [0, 20, 30, 40]\n",
    "\n",
    "# Use map with the defined function\n",
    "temperatures_fahrenheit = map(celsius_to_fahrenheit, temperatures_celsius)\n",
    "\n",
    "# Convert the map object to a list and print\n",
    "print(list(temperatures_fahrenheit))"
   ]
  },
  {
   "cell_type": "markdown",
   "id": "6479e0b9-25ab-49b8-859f-f08279e378b0",
   "metadata": {},
   "source": [
    "### `filter()`\n",
    "\n",
    "The filter() function filters items from an iterable based on a condition specified by a function, returning a filter object, which can be converted to a list, tuple, etc.\n",
    "\n",
    "**Syntax:**\n",
    "```python\n",
    "filter(function, iterable)\n",
    "```\n",
    "\n",
    "Where:\n",
    "\n",
    "- function is a function that returns True or False for each item\n",
    "- iterable is the collection of items to filter1"
   ]
  },
  {
   "cell_type": "code",
   "execution_count": 22,
   "id": "cc8f0077-38f9-4f71-9ef2-c3cf0dbe630f",
   "metadata": {},
   "outputs": [
    {
     "name": "stdout",
     "output_type": "stream",
     "text": [
      "[2, 4, 6]\n"
     ]
    }
   ],
   "source": [
    "# Example 4.9: Filter out only even numbers from a list\n",
    "nums = [1, 2, 3, 4, 5, 6]\n",
    "even = filter(lambda x: x % 2 == 0, nums)\n",
    "print(list(even))  # Output: [2, 4, 6]\n"
   ]
  },
  {
   "cell_type": "markdown",
   "id": "282c0df9-8770-44a8-a548-b95b5bbc126e",
   "metadata": {},
   "source": [
    "---"
   ]
  },
  {
   "cell_type": "markdown",
   "id": "aee5916c-bff2-45b0-871e-837969fba072",
   "metadata": {},
   "source": [
    "**Exercise 4.1: If-Else Statement**  \n",
    "\n",
    "1. Write a program that checks if a number is positive, negative, or zero.\n",
    "2. Use an `if-elif-else` statement to print the result."
   ]
  },
  {
   "cell_type": "code",
   "execution_count": null,
   "id": "91ed694f-762b-479f-9595-fa8ae4541c8e",
   "metadata": {},
   "outputs": [],
   "source": [
    "# Solution 4.1\n",
    "\n",
    "num = int(input(\"Enter a number: \"))\n",
    "\n",
    "if num > 0:\n",
    "    print(\"The number is positive\")\n",
    "elif num == 0:\n",
    "    print(\"The number is zero\")\n",
    "else:\n",
    "    print(\"The number is negative\")"
   ]
  },
  {
   "cell_type": "markdown",
   "id": "b9c19fb8-971b-4cf8-b58d-ff88d1055e76",
   "metadata": {},
   "source": [
    "**Exercise 4.2: For Loop with Range**\n",
    "\n",
    "1. Write a `for` loop to print all even numbers between 1 and 20 (inclusive)."
   ]
  },
  {
   "cell_type": "code",
   "execution_count": null,
   "id": "a375a7d3-6d36-4b16-8ea2-366df3604e63",
   "metadata": {},
   "outputs": [],
   "source": [
    "# Solution 4.2\n",
    "for i in range(1, 21):\n",
    "    if i % 2 == 0:\n",
    "        print(i)"
   ]
  },
  {
   "cell_type": "markdown",
   "id": "177bbe37-b767-4966-b836-11f0df38740a",
   "metadata": {},
   "source": [
    "**Exercise 4.3: While Loop**\n",
    "1. Use a `while` loop to print the numbers from 5 to 1 in reverse order."
   ]
  },
  {
   "cell_type": "code",
   "execution_count": 1,
   "id": "be1f5a21-5323-45c6-93d8-464f2b4fbf5e",
   "metadata": {},
   "outputs": [
    {
     "name": "stdout",
     "output_type": "stream",
     "text": [
      "5\n",
      "4\n",
      "3\n",
      "2\n",
      "1\n"
     ]
    }
   ],
   "source": [
    "# Solution 4.3\n",
    "count = 5\n",
    "while count > 0:\n",
    "    print(count)\n",
    "    count -= 1"
   ]
  },
  {
   "cell_type": "markdown",
   "id": "461fd017-836a-4e4f-a8be-a03c4a620fb0",
   "metadata": {},
   "source": [
    "**Exercise 4.4: Map and Filter**\n",
    "1. Create a list of numbers `nums = [1, 2, 3, 4, 5]`.\n",
    "2. Use `map()` to create a new list with each number squared.\n",
    "3. Use `filter()` to create a list of only the even numbers."
   ]
  },
  {
   "cell_type": "code",
   "execution_count": null,
   "id": "2644e4cb-3b3c-4233-8086-62babf17e7b3",
   "metadata": {},
   "outputs": [],
   "source": [
    "# Solution 4.4\n",
    "\n",
    "nums = [1, 2, 3, 4, 5]\n",
    "\n",
    "# Use map() to square each number\n",
    "squared = map(lambda x: x**2, nums)\n",
    "print(\"Squared numbers:\", list(squared))\n",
    "\n",
    "# Use filter() to get even numbers\n",
    "even = filter(lambda x: x % 2 == 0, nums)\n",
    "print(\"Even numbers:\", list(even))"
   ]
  },
  {
   "cell_type": "markdown",
   "id": "99f06906-04ab-4f40-a8bb-3d667090ee92",
   "metadata": {},
   "source": [
    "**Exercise 4.5: Count Vowels in a String**\n",
    "\n",
    "```python\n",
    "# Input string\n",
    "text = \"Loops are powerful tools in programming.\"\n",
    "```\n",
    "Your tasks:\n",
    "1. Initialize a variable `vowel_count` to 0.\n",
    "2. Iterate over each character in the string using a `for` loop.\n",
    "3. Check if the character is a vowel (a, e, i, o, u, both uppercase and lowercase).\n",
    "4. Increment `vowel_count` for each vowel.\n",
    "5. Print the final value of `vowel_count`."
   ]
  },
  {
   "cell_type": "code",
   "execution_count": 2,
   "id": "42eae1a8-18d1-4ac9-affc-a3a5bbb5012b",
   "metadata": {},
   "outputs": [
    {
     "name": "stdout",
     "output_type": "stream",
     "text": [
      "Number of vowels: 13\n"
     ]
    }
   ],
   "source": [
    "# Solution 4.5\n",
    "\n",
    "# Input string\n",
    "text = \"Loops are powerful tools in programming.\"\n",
    "\n",
    "# Initialize a counter for vowels\n",
    "vowel_count = 0\n",
    "\n",
    "# Define the set of vowels\n",
    "vowels = \"aeiouAEIOU\"\n",
    "\n",
    "# Iterate over each character in the string\n",
    "for char in text:\n",
    "    if char in vowels:  # Check if the character is a vowel\n",
    "        vowel_count += 1\n",
    "\n",
    "# Print the result\n",
    "print(\"Number of vowels:\", vowel_count)\n"
   ]
  },
  {
   "cell_type": "markdown",
   "id": "2964755f-ffec-4a1b-bc0b-a144f9ad2c46",
   "metadata": {},
   "source": [
    "# 5. Data Structures"
   ]
  },
  {
   "cell_type": "markdown",
   "id": "39f62fba-a91d-4bd3-8847-457b56f8a3e0",
   "metadata": {},
   "source": [
    "**Ex 5.1: Create and modify a list**\n",
    "\n",
    "Create a list of your 5 favorite foods, modify one item, and then print the updated list. "
   ]
  },
  {
   "cell_type": "code",
   "execution_count": 34,
   "id": "24885dcf-d89b-4c98-ab64-9154a6de77cd",
   "metadata": {},
   "outputs": [],
   "source": [
    "# Solution 5.\n",
    "\n",
    "# Step 1: Create a list of 5 favorite foods\n",
    "favorite_foods = [\"Pizza\", \"Burger\", \"Sushi\", \"Pasta\", \"Ice Cream\"]\n",
    "\n",
    "# Step 2: Modify one item (e.g., change \"Burger\" to \"Tacos\")\n",
    "favorite_foods[1] = \"Tacos\"\n",
    "\n",
    "# Step 3: Print the updated list\n",
    "print(\"Updated list of favorite foods:\", favorite_foods)"
   ]
  },
  {
   "cell_type": "markdown",
   "id": "e26f4b23-47af-43b2-973e-47be944c7baf",
   "metadata": {},
   "source": [
    "**Ex 5.2: Create a tuple**\n",
    "\n",
    "Create a tuple with your first three favorite animals. Try to access the second item and print it. Attempt to change an element and see the result."
   ]
  },
  {
   "cell_type": "code",
   "execution_count": 4,
   "id": "9dafed3b-d694-4650-84f8-732d93290f61",
   "metadata": {},
   "outputs": [
    {
     "name": "stdout",
     "output_type": "stream",
     "text": [
      "Second favorite animal: Cat\n",
      "Error: 'tuple' object does not support item assignment\n"
     ]
    }
   ],
   "source": [
    "# Solution 5.2\n",
    "\n",
    "# Step 1: Create a tuple with 3 favorite animals\n",
    "favorite_animals = (\"Dog\", \"Cat\", \"Elephant\")\n",
    "\n",
    "# Step 2: Access the second item and print it\n",
    "print(\"Second favorite animal:\", favorite_animals[1])\n",
    "\n",
    "# Step 3: Attempt to change an element (this will raise an error)\n",
    "try:\n",
    "    favorite_animals[1] = \"Tiger\"  # Tuples are immutable, so this is not allowed\n",
    "except TypeError as e:\n",
    "    print(\"Error:\", e)\n"
   ]
  },
  {
   "cell_type": "markdown",
   "id": "7789f7be-fddc-4e7a-aff8-f82988826e28",
   "metadata": {},
   "source": [
    "**Ex 5.3 Create a set**\n",
    "\n",
    "Create a set with five numbers. Add a new number and remove one of the existing numbers. Print the final set."
   ]
  },
  {
   "cell_type": "code",
   "execution_count": 5,
   "id": "b72c7168-e810-4769-88b4-d653049ae3ad",
   "metadata": {},
   "outputs": [
    {
     "name": "stdout",
     "output_type": "stream",
     "text": [
      "Final set after modification: {1, 2, 4, 5, 6}\n"
     ]
    }
   ],
   "source": [
    "# Solution 5.3\n",
    "\n",
    "# Step 1: Create a set with 5 numbers\n",
    "my_set = {1, 2, 3, 4, 5}\n",
    "\n",
    "# Step 2: Add a new number to the set\n",
    "my_set.add(6)\n",
    "\n",
    "# Step 3: Remove an existing number from the set (e.g., remove 3)\n",
    "my_set.remove(3)\n",
    "\n",
    "# Step 4: Print the final set\n",
    "print(\"Final set after modification:\", my_set)"
   ]
  },
  {
   "cell_type": "markdown",
   "id": "81de92a9-2130-4b6d-975b-99750a6eafe8",
   "metadata": {
    "jp-MarkdownHeadingCollapsed": true
   },
   "source": [
    "**Ex 5.4 Create a dict**\n",
    "\n",
    "Create a dictionary with at least 3 key-value pairs representing your details (e.g., name, age, and country). Update one of the values and print the updated dictionary."
   ]
  },
  {
   "cell_type": "code",
   "execution_count": 6,
   "id": "b1ff6c50-3b1a-467b-bd5b-a2eb0cc715bd",
   "metadata": {},
   "outputs": [
    {
     "name": "stdout",
     "output_type": "stream",
     "text": [
      "Updated dictionary: {'name': 'Alice', 'age': 31, 'country': 'USA'}\n"
     ]
    }
   ],
   "source": [
    "# Solution 5.4\n",
    "\n",
    "# Step 1: Create a dictionary with at least 3 key-value pairs\n",
    "my_details = {\n",
    "    \"name\": \"Alice\",\n",
    "    \"age\": 30,\n",
    "    \"country\": \"USA\"\n",
    "}\n",
    "\n",
    "# Step 2: Update one of the values (e.g., change age to 31)\n",
    "my_details[\"age\"] = 31\n",
    "\n",
    "# Step 3: Print the updated dictionary\n",
    "print(\"Updated dictionary:\", my_details)"
   ]
  }
 ],
 "metadata": {
  "kernelspec": {
   "display_name": "Python 3 (ipykernel)",
   "language": "python",
   "name": "python3"
  },
  "language_info": {
   "codemirror_mode": {
    "name": "ipython",
    "version": 3
   },
   "file_extension": ".py",
   "mimetype": "text/x-python",
   "name": "python",
   "nbconvert_exporter": "python",
   "pygments_lexer": "ipython3",
   "version": "3.11.7"
  }
 },
 "nbformat": 4,
 "nbformat_minor": 5
}
